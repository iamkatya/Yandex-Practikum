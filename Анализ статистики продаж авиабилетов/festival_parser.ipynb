{
 "cells": [
  {
   "cell_type": "code",
   "execution_count": null,
   "metadata": {},
   "outputs": [],
   "source": [
    "import pandas as pd\n",
    "import requests\n",
    "from bs4 import BeautifulSoup\n",
    "\n",
    "req=requests.get('https://festivalnews.ru/index.html')\n",
    "soup=BeautifulSoup(req.text, 'lxml')\n",
    "\n",
    "table=soup.find('table')\n",
    "headers=[]\n",
    "for i in table.find_all('th'):\n",
    "    headers.append(i.text)\n",
    "content=[]\n",
    "\n",
    "for row in table.find_all('tr'):\n",
    "    if not row.find_all('th'):\n",
    "        content.append([element.text for element in row.find_all('td')])\n",
    "        \n",
    "festivals=pd.DataFrame(columns=headers, data=content)\n",
    "\n",
    "print(festivals)"
   ]
  }
 ],
 "metadata": {
  "kernelspec": {
   "display_name": "Python 3",
   "language": "python",
   "name": "python3"
  },
  "language_info": {
   "codemirror_mode": {
    "name": "ipython",
    "version": 3
   },
   "file_extension": ".py",
   "mimetype": "text/x-python",
   "name": "python",
   "nbconvert_exporter": "python",
   "pygments_lexer": "ipython3",
   "version": "3.7.6"
  }
 },
 "nbformat": 4,
 "nbformat_minor": 4
}
